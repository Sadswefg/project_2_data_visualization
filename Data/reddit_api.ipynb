{
 "cells": [
  {
   "cell_type": "code",
   "execution_count": 1,
   "metadata": {},
   "outputs": [],
   "source": [
    "import praw\n",
    "from IPython import display\n",
    "import pandas as pd\n",
    "from datetime import datetime"
   ]
  },
  {
   "cell_type": "code",
   "execution_count": 2,
   "metadata": {},
   "outputs": [],
   "source": [
    "CLIENT_ID='hruo_5_fVGMzQBAg4P_Ysg'\n",
    "CLIENT_SECRET='j1fE6K4dE6WO2Fb1pv18AwSaVr4Pbg'\n",
    "USER_AGENT='Ok_Hope_6483'"
   ]
  },
  {
   "cell_type": "code",
   "execution_count": 3,
   "metadata": {},
   "outputs": [],
   "source": [
    "def get_reddit_headlines(subreddit, query, limit=1000):\n",
    "    reddit = praw.Reddit(client_id=CLIENT_ID,\n",
    "                         client_secret=CLIENT_SECRET,\n",
    "                         user_agent=USER_AGENT)\n",
    "    \n",
    "    headlines = []\n",
    "    for submission in reddit.subreddit(subreddit).search(query, limit=limit):\n",
    "        # Extracting title and created date\n",
    "        title = submission.title\n",
    "        created_utc = datetime.utcfromtimestamp(submission.created_utc)\n",
    "        headlines.append((title, created_utc))\n",
    "    \n",
    "    return headlines\n",
    "\n",
    "def get_tourism_headlines_for_cities(cities, limit=100):\n",
    "    headlines_by_city = []\n",
    "    for city in cities:\n",
    "        query = f\"tourism {city}\"\n",
    "        headlines = get_reddit_headlines('all', query, limit)\n",
    "        for headline, date in headlines:\n",
    "            headlines_by_city.append({'City': city, 'Headline': headline, 'Date': date})\n",
    "    return headlines_by_city"
   ]
  },
  {
   "cell_type": "code",
   "execution_count": 4,
   "metadata": {},
   "outputs": [],
   "source": [
    "cities = ['Hanoi', 'Saigon', 'Da Nang', 'Sapa', 'Nha Trang', 'Hoi An', 'Hue', 'Phu Quoc', 'Vung Tau', 'Da Lat']\n",
    "headlines = get_tourism_headlines_for_cities(cities, limit=1000)"
   ]
  },
  {
   "cell_type": "code",
   "execution_count": 5,
   "metadata": {},
   "outputs": [],
   "source": [
    "from vaderSentiment.vaderSentiment import SentimentIntensityAnalyzer\n",
    "\n",
    "def analyze_sentiment(headlines):\n",
    "    analyzer = SentimentIntensityAnalyzer()\n",
    "    for headline in headlines:\n",
    "        sentiment_scores = analyzer.polarity_scores(headline['title'])\n",
    "        headline['sentiment'] = sentiment_scores['compound']\n",
    "    return headlines"
   ]
  },
  {
   "cell_type": "code",
   "execution_count": 6,
   "metadata": {},
   "outputs": [
    {
     "ename": "TypeError",
     "evalue": "list indices must be integers or slices, not dict",
     "output_type": "error",
     "traceback": [
      "\u001b[1;31m---------------------------------------------------------------------------\u001b[0m",
      "\u001b[1;31mTypeError\u001b[0m                                 Traceback (most recent call last)",
      "Cell \u001b[1;32mIn[6], line 2\u001b[0m\n\u001b[0;32m      1\u001b[0m \u001b[38;5;28;01mfor\u001b[39;00m city \u001b[38;5;129;01min\u001b[39;00m headlines:\n\u001b[1;32m----> 2\u001b[0m     headlines[city] \u001b[38;5;241m=\u001b[39m analyze_sentiment(\u001b[43mheadlines\u001b[49m\u001b[43m[\u001b[49m\u001b[43mcity\u001b[49m\u001b[43m]\u001b[49m)\n",
      "\u001b[1;31mTypeError\u001b[0m: list indices must be integers or slices, not dict"
     ]
    }
   ],
   "source": [
    "for city in headlines:\n",
    "    headlines[city] = analyze_sentiment(headlines[city])"
   ]
  },
  {
   "cell_type": "code",
   "execution_count": 7,
   "metadata": {},
   "outputs": [],
   "source": [
    "# Convert the list of dictionaries to a DataFrame\n",
    "df = pd.DataFrame(headlines)\n",
    "\n",
    "# Save the DataFrame to a CSV file\n",
    "df.to_csv('reddit_tourism_headlines2.csv', index=False)"
   ]
  }
 ],
 "metadata": {
  "kernelspec": {
   "display_name": "Python 3",
   "language": "python",
   "name": "python3"
  },
  "language_info": {
   "codemirror_mode": {
    "name": "ipython",
    "version": 3
   },
   "file_extension": ".py",
   "mimetype": "text/x-python",
   "name": "python",
   "nbconvert_exporter": "python",
   "pygments_lexer": "ipython3",
   "version": "3.10.8"
  }
 },
 "nbformat": 4,
 "nbformat_minor": 2
}
